{
 "cells": [
  {
   "cell_type": "code",
   "execution_count": 1,
   "metadata": {},
   "outputs": [],
   "source": [
    "import gymnasium as gym\n",
    "from gymnasium import spaces\n",
    "import numpy as np\n",
    "from mlagents_envs.environment import UnityEnvironment\n",
    "from mlagents_envs.side_channel.engine_configuration_channel import EngineConfigurationChannel\n",
    "from stable_baselines3 import PPO, A2C, DQN\n",
    "from stable_baselines3.common.env_util import make_vec_env"
   ]
  },
  {
   "cell_type": "code",
   "execution_count": 2,
   "metadata": {},
   "outputs": [],
   "source": [
    "env = UnityEnvironment(file_name='b6-uibuild\\SoccerBot')\n",
    "\n",
    "\n"
   ]
  },
  {
   "cell_type": "code",
   "execution_count": 3,
   "metadata": {},
   "outputs": [],
   "source": [
    "env.reset()"
   ]
  },
  {
   "cell_type": "code",
   "execution_count": 4,
   "metadata": {},
   "outputs": [
    {
     "name": "stdout",
     "output_type": "stream",
     "text": [
      "['Soccer Bot?team=0', 'Soccer Bot?team=1']\n"
     ]
    }
   ],
   "source": [
    "behavior_names = list(env.behavior_specs.keys())\n",
    "print(behavior_names)\n",
    "action_tuple = env.behavior_specs[behavior_names[0]][1].empty_action(1)"
   ]
  },
  {
   "cell_type": "code",
   "execution_count": 5,
   "metadata": {},
   "outputs": [],
   "source": [
    "filepath_ppo_t0 = 'team_0/PPO'\n",
    "filepath_a2c_t0 = 'team_0/A2C'\n",
    "model_no_a2c = 999\n",
    "model_no_ppo = 951\n",
    "\n",
    "filepath_a2c_t1 = 'team_1'\n",
    "filepath_ppo_t1 = 'team_1'"
   ]
  },
  {
   "cell_type": "code",
   "execution_count": 6,
   "metadata": {},
   "outputs": [],
   "source": [
    "model_t0 = PPO.load(f'{filepath_ppo_t0}/PPO_soccerbot_t0_{model_no_ppo}.zip')\n",
    "model_t1 = PPO.load(f'{filepath_ppo_t1}/ppo_soccerbot_t1.zip')\n",
    "\n",
    "model_t1.set_parameters(model_t0.get_parameters())"
   ]
  },
  {
   "cell_type": "code",
   "execution_count": 7,
   "metadata": {},
   "outputs": [],
   "source": [
    "# model_t0 = A2C.load(f'{filepath_a2c_t0}/a2c_soccerbot_t0_{model_no_a2c}.zip')\n",
    "# model_t1 = A2C.load(f'{filepath_a2c_t1}/a2c_soccerbot_t1.zip')\n",
    "\n",
    "# model_t1.set_parameters(model_t0.get_parameters())"
   ]
  },
  {
   "cell_type": "code",
   "execution_count": 8,
   "metadata": {},
   "outputs": [],
   "source": [
    "def getobservation( decstep , termstep ):\n",
    "    if decstep.obs[0].shape == (2,56) and decstep.obs[1].shape == (2,168) :\n",
    "        obs = np.concatenate((decstep.obs[0],decstep.obs[1]) , axis=1 , dtype=np.float32)            \n",
    "    else:\n",
    "        obs = np.concatenate((termstep.obs[0],termstep.obs[1]) , axis=1, dtype=np.float32)\n",
    "    obs = np.reshape(obs ,newshape=(448,))\n",
    "    return obs"
   ]
  },
  {
   "cell_type": "code",
   "execution_count": 9,
   "metadata": {},
   "outputs": [],
   "source": [
    "def setaction_t0(model , obs , decstep , behavior_name ):\n",
    "    global model_t0 \n",
    "    act_t1,_ = model.predict(observation=obs , deterministic=True)\n",
    "        \n",
    "    idx: int = 0\n",
    "    for agent in decstep.agent_id:\n",
    "        action_tuple.add_discrete(np.array(act_t1[2*idx : 2*(idx+1)]).reshape((1,2)))\n",
    "        env.set_action_for_agent(behavior_name,agent,action=action_tuple)\n",
    "        idx+=1\n",
    "\n",
    "def setaction_t1(model , obs , decstep , behavior_name ):\n",
    "    global model_t1\n",
    "    act_t1,_ = model.predict(observation=obs , deterministic=True)\n",
    "        \n",
    "    idx: int = 0\n",
    "    for agent in decstep.agent_id:\n",
    "        action_tuple.add_discrete(np.array(act_t1[2*idx : 2*(idx+1)]).reshape((1,2)))\n",
    "        env.set_action_for_agent(behavior_name,agent,action=action_tuple)\n",
    "        idx+=1"
   ]
  },
  {
   "cell_type": "code",
   "execution_count": 10,
   "metadata": {},
   "outputs": [
    {
     "ename": "UnityCommunicatorStoppedException",
     "evalue": "Communicator has exited.",
     "output_type": "error",
     "traceback": [
      "\u001b[1;31m---------------------------------------------------------------------------\u001b[0m",
      "\u001b[1;31mUnityCommunicatorStoppedException\u001b[0m         Traceback (most recent call last)",
      "\u001b[1;32me:\\iut stuff\\sem 6\\CSE4622 ML Lab\\ProjectGit\\Builds\\modeloader.ipynb Cell 10\u001b[0m line \u001b[0;36m1\n\u001b[0;32m      <a href='vscode-notebook-cell:/e%3A/iut%20stuff/sem%206/CSE4622%20ML%20Lab/ProjectGit/Builds/modeloader.ipynb#X12sZmlsZQ%3D%3D?line=8'>9</a>\u001b[0m     obs \u001b[39m=\u001b[39m getobservation(decstept1 , termstept1)\n\u001b[0;32m     <a href='vscode-notebook-cell:/e%3A/iut%20stuff/sem%206/CSE4622%20ML%20Lab/ProjectGit/Builds/modeloader.ipynb#X12sZmlsZQ%3D%3D?line=9'>10</a>\u001b[0m     setaction_t1(model_t1 , obs , decstept1 , behavior_names[\u001b[39m1\u001b[39m])\n\u001b[1;32m---> <a href='vscode-notebook-cell:/e%3A/iut%20stuff/sem%206/CSE4622%20ML%20Lab/ProjectGit/Builds/modeloader.ipynb#X12sZmlsZQ%3D%3D?line=11'>12</a>\u001b[0m     env\u001b[39m.\u001b[39;49mstep()\n\u001b[0;32m     <a href='vscode-notebook-cell:/e%3A/iut%20stuff/sem%206/CSE4622%20ML%20Lab/ProjectGit/Builds/modeloader.ipynb#X12sZmlsZQ%3D%3D?line=13'>14</a>\u001b[0m env\u001b[39m.\u001b[39mclose()\n",
      "File \u001b[1;32mj:\\Unity Projects\\ml-venv\\lib\\site-packages\\mlagents_envs\\timers.py:305\u001b[0m, in \u001b[0;36mtimed.<locals>.wrapped\u001b[1;34m(*args, **kwargs)\u001b[0m\n\u001b[0;32m    303\u001b[0m \u001b[39mdef\u001b[39;00m \u001b[39mwrapped\u001b[39m(\u001b[39m*\u001b[39margs, \u001b[39m*\u001b[39m\u001b[39m*\u001b[39mkwargs):\n\u001b[0;32m    304\u001b[0m     \u001b[39mwith\u001b[39;00m hierarchical_timer(func\u001b[39m.\u001b[39m\u001b[39m__qualname__\u001b[39m):\n\u001b[1;32m--> 305\u001b[0m         \u001b[39mreturn\u001b[39;00m func(\u001b[39m*\u001b[39margs, \u001b[39m*\u001b[39m\u001b[39m*\u001b[39mkwargs)\n",
      "File \u001b[1;32mj:\\Unity Projects\\ml-venv\\lib\\site-packages\\mlagents_envs\\environment.py:350\u001b[0m, in \u001b[0;36mUnityEnvironment.step\u001b[1;34m(self)\u001b[0m\n\u001b[0;32m    348\u001b[0m     outputs \u001b[39m=\u001b[39m \u001b[39mself\u001b[39m\u001b[39m.\u001b[39m_communicator\u001b[39m.\u001b[39mexchange(step_input, \u001b[39mself\u001b[39m\u001b[39m.\u001b[39m_poll_process)\n\u001b[0;32m    349\u001b[0m \u001b[39mif\u001b[39;00m outputs \u001b[39mis\u001b[39;00m \u001b[39mNone\u001b[39;00m:\n\u001b[1;32m--> 350\u001b[0m     \u001b[39mraise\u001b[39;00m UnityCommunicatorStoppedException(\u001b[39m\"\u001b[39m\u001b[39mCommunicator has exited.\u001b[39m\u001b[39m\"\u001b[39m)\n\u001b[0;32m    351\u001b[0m \u001b[39mself\u001b[39m\u001b[39m.\u001b[39m_update_behavior_specs(outputs)\n\u001b[0;32m    352\u001b[0m rl_output \u001b[39m=\u001b[39m outputs\u001b[39m.\u001b[39mrl_output\n",
      "\u001b[1;31mUnityCommunicatorStoppedException\u001b[0m: Communicator has exited."
     ]
    }
   ],
   "source": [
    "\n",
    "n_steps = 2500\n",
    "for step in range(n_steps):\n",
    "    (decstept0 , termstept0) = env.get_steps(behavior_name=behavior_names[0])\n",
    "    (decstept1 , termstept1) = env.get_steps(behavior_name=behavior_names[1])\n",
    "    \n",
    "    obs = getobservation(decstept0 , termstept0)\n",
    "    setaction_t0(model_t0 , obs , decstept0 , behavior_names[0])\n",
    "    \n",
    "    obs = getobservation(decstept1 , termstept1)\n",
    "    setaction_t1(model_t1 , obs , decstept1 , behavior_names[1])\n",
    "\n",
    "    env.step()\n",
    "\n",
    "env.close()"
   ]
  }
 ],
 "metadata": {
  "kernelspec": {
   "display_name": "ml-venv",
   "language": "python",
   "name": "python3"
  },
  "language_info": {
   "codemirror_mode": {
    "name": "ipython",
    "version": 3
   },
   "file_extension": ".py",
   "mimetype": "text/x-python",
   "name": "python",
   "nbconvert_exporter": "python",
   "pygments_lexer": "ipython3",
   "version": "3.10.11"
  }
 },
 "nbformat": 4,
 "nbformat_minor": 2
}
